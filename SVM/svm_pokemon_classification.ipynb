{
 "cells": [
  {
   "cell_type": "code",
   "execution_count": 1,
   "metadata": {},
   "outputs": [],
   "source": [
    "import numpy as np\n",
    "from pathlib import Path\n",
    "from keras.preprocessing import image\n",
    "import matplotlib.pyplot as plt\n",
    "import pandas as pd"
   ]
  },
  {
   "cell_type": "code",
   "execution_count": 2,
   "metadata": {},
   "outputs": [
    {
     "data": {
      "text/plain": [
       "(304, 2)"
      ]
     },
     "execution_count": 2,
     "metadata": {},
     "output_type": "execute_result"
    }
   ],
   "source": [
    "X = pd.read_csv(\"Train/Train.csv\")\n",
    "\n",
    "p = Path(\"Train/Images\")\n",
    "X.shape"
   ]
  },
  {
   "cell_type": "code",
   "execution_count": 3,
   "metadata": {},
   "outputs": [
    {
     "data": {
      "text/plain": [
       "array(['296.jpg', 'Pikachu'], dtype=object)"
      ]
     },
     "execution_count": 3,
     "metadata": {},
     "output_type": "execute_result"
    }
   ],
   "source": [
    "X = X.values\n",
    "X[0]"
   ]
  },
  {
   "cell_type": "code",
   "execution_count": 5,
   "metadata": {},
   "outputs": [
    {
     "data": {
      "text/plain": [
       "(array([3], dtype=int64),)"
      ]
     },
     "execution_count": 5,
     "metadata": {},
     "output_type": "execute_result"
    }
   ],
   "source": [
    "Xtest = X[:,0]\n",
    "Xtest.shape"
   ]
  },
  {
   "cell_type": "code",
   "execution_count": 6,
   "metadata": {},
   "outputs": [
    {
     "data": {
      "text/plain": [
       "array(['Bulbasaur', 'Charmander', 'Pikachu'], dtype=object)"
      ]
     },
     "execution_count": 6,
     "metadata": {},
     "output_type": "execute_result"
    }
   ],
   "source": [
    "classes = np.unique(X[:,-1])\n",
    "classes"
   ]
  },
  {
   "cell_type": "code",
   "execution_count": 7,
   "metadata": {},
   "outputs": [
    {
     "name": "stdout",
     "output_type": "stream",
     "text": [
      "{'Bulbasaur': 0, 'Charmander': 1, 'Pikachu': 2}\n"
     ]
    }
   ],
   "source": [
    "labels_dict = {}\n",
    "\n",
    "for c in range(classes.shape[0]):\n",
    "    labels_dict.update({classes[c]:c})\n",
    "    \n",
    "print(labels_dict)"
   ]
  },
  {
   "cell_type": "code",
   "execution_count": 8,
   "metadata": {},
   "outputs": [
    {
     "name": "stderr",
     "output_type": "stream",
     "text": [
      "c:\\users\\linta.kumar\\appdata\\local\\programs\\python\\python37\\lib\\site-packages\\PIL\\Image.py:952: UserWarning: Palette images with Transparency expressed in bytes should be converted to RGBA images\n",
      "  \"Palette images with Transparency expressed in bytes should be \"\n"
     ]
    }
   ],
   "source": [
    "image_data = []\n",
    "labels = []\n",
    "i = 0\n",
    "\n",
    "for img_path in p.glob(\"*.jpg\"):\n",
    "    label = str(img_path).split(\"\\\\\")[-1]\n",
    "    #print(label)\n",
    "    img = image.load_img(img_path,target_size=(32,32))\n",
    "    img_array = image.img_to_array(img)\n",
    "    image_data.append(img_array)\n",
    "    labels.append(labels_dict[X[i,-1]])\n",
    "    i += 1"
   ]
  },
  {
   "cell_type": "code",
   "execution_count": 9,
   "metadata": {},
   "outputs": [
    {
     "name": "stdout",
     "output_type": "stream",
     "text": [
      "304\n",
      "304\n"
     ]
    }
   ],
   "source": [
    "print(len(labels))\n",
    "print(len(image_data))"
   ]
  },
  {
   "cell_type": "code",
   "execution_count": 10,
   "metadata": {},
   "outputs": [
    {
     "name": "stdout",
     "output_type": "stream",
     "text": [
      "(304, 32, 32, 3)\n",
      "(304,)\n"
     ]
    }
   ],
   "source": [
    "image_data = np.array(image_data, dtype=\"float32\")/255.0\n",
    "labels = np.array(labels)\n",
    "\n",
    "print(image_data.shape)\n",
    "print(labels.shape)"
   ]
  },
  {
   "cell_type": "code",
   "execution_count": 11,
   "metadata": {},
   "outputs": [],
   "source": [
    "def drawImage(img):\n",
    "    plt.imshow(img)\n",
    "    plt.axis(\"off\")\n",
    "    plt.show()"
   ]
  },
  {
   "cell_type": "code",
   "execution_count": 12,
   "metadata": {},
   "outputs": [
    {
     "data": {
      "image/png": "[encoded data removed]",
      "text/plain": [
       "<Figure size 432x288 with 1 Axes>"
      ]
     },
     "metadata": {
      "needs_background": "light"
     },
     "output_type": "display_data"
    }
   ],
   "source": [
    "drawImage(image_data[1])"
   ]
  },
  {
   "cell_type": "code",
   "execution_count": 13,
   "metadata": {},
   "outputs": [],
   "source": [
    "import random\n",
    "\n",
    "combined = list(zip(image_data,labels))\n",
    "random.shuffle(combined)\n",
    "image_data,labels = zip(*combined)"
   ]
  },
  {
   "cell_type": "code",
   "execution_count": 14,
   "metadata": {},
   "outputs": [
    {
     "data": {
      "image/png": "[encoded data removed]",
      "text/plain": [
       "<Figure size 432x288 with 1 Axes>"
      ]
     },
     "metadata": {
      "needs_background": "light"
     },
     "output_type": "display_data"
    }
   ],
   "source": [
    "drawImage(image_data[1])"
   ]
  },
  {
   "cell_type": "code",
   "execution_count": 15,
   "metadata": {},
   "outputs": [],
   "source": [
    "###one to one classification\n",
    "image_data = np.array(image_data)\n",
    "labels = np.array(labels)\n"
   ]
  },
  {
   "cell_type": "code",
   "execution_count": 16,
   "metadata": {},
   "outputs": [
    {
     "name": "stdout",
     "output_type": "stream",
     "text": [
      "(304, 3072)\n",
      "(304,)\n"
     ]
    }
   ],
   "source": [
    "M = image_data.shape[0] \n",
    "image_data = image_data.reshape(M,-1)\n",
    "print(image_data.shape)\n",
    "print(labels.shape)"
   ]
  },
  {
   "cell_type": "code",
   "execution_count": 17,
   "metadata": {},
   "outputs": [
    {
     "data": {
      "text/plain": [
       "1.0"
      ]
     },
     "execution_count": 17,
     "metadata": {},
     "output_type": "execute_result"
    }
   ],
   "source": [
    "from sklearn import svm\n",
    "\n",
    "svm_classifier = svm.SVC(kernel='linear',C=1.0)\n",
    "svm_classifier.fit(image_data,labels)\n",
    "svm_classifier.score(image_data,labels)"
   ]
  },
  {
   "cell_type": "code",
   "execution_count": 18,
   "metadata": {},
   "outputs": [],
   "source": [
    "py = Path(\"Test/Images\")"
   ]
  },
  {
   "cell_type": "code",
   "execution_count": 19,
   "metadata": {},
   "outputs": [],
   "source": [
    "Yans = pd.read_csv(\"Test/Test.csv\")\n",
    "Yans = Yans.values"
   ]
  },
  {
   "cell_type": "code",
   "execution_count": 20,
   "metadata": {},
   "outputs": [
    {
     "name": "stdout",
     "output_type": "stream",
     "text": [
      "['1106.jpg' '2236.jpg' '1131.jpg' '2221.jpg' '2011.jpg' '2030.jpg'\n",
      " '2035.jpg' '1110.jpg' '1104.jpg' '2217.jpg' '1111.jpg' '1100.jpg'\n",
      " '1112.jpg' '1138.jpg' '2238.jpg' '2009.jpg' '2225.jpg' '2240.jpg'\n",
      " '2020.jpg' '2209.jpg' '2029.jpg' '1114.jpg' '2201.jpg' '1118.jpg'\n",
      " '2025.jpg' '2202.jpg' '1117.jpg' '1119.jpg' '2000.jpg' '2007.jpg'\n",
      " '2039.jpg' '2017.jpg' '2215.jpg' '1120.jpg' '2006.jpg' '1116.jpg'\n",
      " '1128.jpg' '1125.jpg' '2203.jpg' '1133.jpg' '1137.jpg' '2220.jpg'\n",
      " '2012.jpg' '2224.jpg' '2206.jpg' '1122.jpg' '2223.jpg' '1102.jpg'\n",
      " '2234.jpg' '2216.jpg' '2016.jpg' '2227.jpg' '2013.jpg' '1113.jpg'\n",
      " '2204.jpg' '1101.jpg' '2208.jpg' '2024.jpg' '2031.jpg' '2222.jpg'\n",
      " '2211.jpg' '2033.jpg' '2213.jpg' '2231.jpg' '2001.jpg' '2040.jpg'\n",
      " '1127.jpg' '2023.jpg' '2015.jpg' '1121.jpg' '2232.jpg' '1139.jpg'\n",
      " '1103.jpg' '2018.jpg' '2233.jpg' '2212.jpg' '2210.jpg' '2228.jpg'\n",
      " '2026.jpg' '1132.jpg' '2003.jpg' '1129.jpg' '2214.jpg' '1123.jpg'\n",
      " '2004.jpg' '1136.jpg' '1140.jpg' '2226.jpg' '2230.jpg' '1135.jpg'\n",
      " '1105.jpg' '2237.jpg' '1109.jpg' '2022.jpg' '2005.jpg' '2218.jpg'\n",
      " '2036.jpg' '1115.jpg' '2032.jpg' '2200.jpg' '1134.jpg' '1130.jpg'\n",
      " '1107.jpg' '2034.jpg' '2205.jpg' '2008.jpg' '2027.jpg' '2028.jpg'\n",
      " '2239.jpg' '1108.jpg' '2010.jpg' '2229.jpg' '2219.jpg' '2019.jpg'\n",
      " '2207.jpg' '2002.jpg' '2037.jpg' '2038.jpg' '1124.jpg' '2014.jpg'\n",
      " '2235.jpg' '1126.jpg' '2021.jpg']\n"
     ]
    }
   ],
   "source": [
    "print(str(Yans[:,0]))"
   ]
  },
  {
   "cell_type": "code",
   "execution_count": 21,
   "metadata": {},
   "outputs": [],
   "source": [
    "image_datay = []\n",
    "imagenames = []\n",
    "\n",
    "for img_path in py.glob(\"*.jpg\"):\n",
    "    label = str(img_path).split(\"\\\\\")[-1]\n",
    "    imagenames.append(label)\n",
    "    img = image.load_img(img_path,target_size=(32,32))\n",
    "    img_array = image.img_to_array(img)\n",
    "    image_datay.append(img_array)\n"
   ]
  },
  {
   "cell_type": "code",
   "execution_count": 22,
   "metadata": {},
   "outputs": [
    {
     "data": {
      "text/plain": [
       "['1100.jpg',\n",
       " '1101.jpg',\n",
       " '1102.jpg',\n",
       " '1103.jpg',\n",
       " '1104.jpg',\n",
       " '1105.jpg',\n",
       " '1106.jpg',\n",
       " '1107.jpg',\n",
       " '1108.jpg',\n",
       " '1109.jpg',\n",
       " '1110.jpg',\n",
       " '1111.jpg',\n",
       " '1112.jpg',\n",
       " '1113.jpg',\n",
       " '1114.jpg',\n",
       " '1115.jpg',\n",
       " '1116.jpg',\n",
       " '1117.jpg',\n",
       " '1118.jpg',\n",
       " '1119.jpg',\n",
       " '1120.jpg',\n",
       " '1121.jpg',\n",
       " '1122.jpg',\n",
       " '1123.jpg',\n",
       " '1124.jpg',\n",
       " '1125.jpg',\n",
       " '1126.jpg',\n",
       " '1127.jpg',\n",
       " '1128.jpg',\n",
       " '1129.jpg',\n",
       " '1130.jpg',\n",
       " '1131.jpg',\n",
       " '1132.jpg',\n",
       " '1133.jpg',\n",
       " '1134.jpg',\n",
       " '1135.jpg',\n",
       " '1136.jpg',\n",
       " '1137.jpg',\n",
       " '1138.jpg',\n",
       " '1139.jpg',\n",
       " '1140.jpg',\n",
       " '2000.jpg',\n",
       " '2001.jpg',\n",
       " '2002.jpg',\n",
       " '2003.jpg',\n",
       " '2004.jpg',\n",
       " '2005.jpg',\n",
       " '2006.jpg',\n",
       " '2007.jpg',\n",
       " '2008.jpg',\n",
       " '2009.jpg',\n",
       " '2010.jpg',\n",
       " '2011.jpg',\n",
       " '2012.jpg',\n",
       " '2013.jpg',\n",
       " '2014.jpg',\n",
       " '2015.jpg',\n",
       " '2016.jpg',\n",
       " '2017.jpg',\n",
       " '2018.jpg',\n",
       " '2019.jpg',\n",
       " '2020.jpg',\n",
       " '2021.jpg',\n",
       " '2022.jpg',\n",
       " '2023.jpg',\n",
       " '2024.jpg',\n",
       " '2025.jpg',\n",
       " '2026.jpg',\n",
       " '2027.jpg',\n",
       " '2028.jpg',\n",
       " '2029.jpg',\n",
       " '2030.jpg',\n",
       " '2031.jpg',\n",
       " '2032.jpg',\n",
       " '2033.jpg',\n",
       " '2034.jpg',\n",
       " '2035.jpg',\n",
       " '2036.jpg',\n",
       " '2037.jpg',\n",
       " '2038.jpg',\n",
       " '2039.jpg',\n",
       " '2040.jpg',\n",
       " '2200.jpg',\n",
       " '2201.jpg',\n",
       " '2202.jpg',\n",
       " '2203.jpg',\n",
       " '2204.jpg',\n",
       " '2205.jpg',\n",
       " '2206.jpg',\n",
       " '2207.jpg',\n",
       " '2208.jpg',\n",
       " '2209.jpg',\n",
       " '2210.jpg',\n",
       " '2211.jpg',\n",
       " '2212.jpg',\n",
       " '2213.jpg',\n",
       " '2214.jpg',\n",
       " '2215.jpg',\n",
       " '2216.jpg',\n",
       " '2217.jpg',\n",
       " '2218.jpg',\n",
       " '2219.jpg',\n",
       " '2220.jpg',\n",
       " '2221.jpg',\n",
       " '2222.jpg',\n",
       " '2223.jpg',\n",
       " '2224.jpg',\n",
       " '2225.jpg',\n",
       " '2226.jpg',\n",
       " '2227.jpg',\n",
       " '2228.jpg',\n",
       " '2229.jpg',\n",
       " '2230.jpg',\n",
       " '2231.jpg',\n",
       " '2232.jpg',\n",
       " '2233.jpg',\n",
       " '2234.jpg',\n",
       " '2235.jpg',\n",
       " '2236.jpg',\n",
       " '2237.jpg',\n",
       " '2238.jpg',\n",
       " '2239.jpg',\n",
       " '2240.jpg']"
      ]
     },
     "execution_count": 22,
     "metadata": {},
     "output_type": "execute_result"
    }
   ],
   "source": [
    "imagenames"
   ]
  },
  {
   "cell_type": "code",
   "execution_count": 23,
   "metadata": {},
   "outputs": [
    {
     "name": "stdout",
     "output_type": "stream",
     "text": [
      "(123, 32, 32, 3)\n"
     ]
    }
   ],
   "source": [
    "image_datay = np.array(image_datay, dtype=\"float32\")/255.0\n",
    "print(image_datay.shape)"
   ]
  },
  {
   "cell_type": "code",
   "execution_count": 24,
   "metadata": {},
   "outputs": [
    {
     "data": {
      "image/png": "[encoded data removed]",
      "text/plain": [
       "<Figure size 432x288 with 1 Axes>"
      ]
     },
     "metadata": {
      "needs_background": "light"
     },
     "output_type": "display_data"
    }
   ],
   "source": [
    "drawImage(image_datay[1])"
   ]
  },
  {
   "cell_type": "code",
   "execution_count": 25,
   "metadata": {},
   "outputs": [
    {
     "name": "stdout",
     "output_type": "stream",
     "text": [
      "(123, 3072)\n"
     ]
    }
   ],
   "source": [
    "M = image_datay.shape[0] \n",
    "image_datay = image_datay.reshape(M,-1)\n",
    "print(image_datay.shape)"
   ]
  },
  {
   "cell_type": "code",
   "execution_count": 26,
   "metadata": {},
   "outputs": [],
   "source": [
    "Y = svm_classifier.predict(image_datay)"
   ]
  },
  {
   "cell_type": "code",
   "execution_count": 28,
   "metadata": {},
   "outputs": [
    {
     "data": {
      "text/plain": [
       "array([0, 0, 0, 0, 0, 0, 0, 0, 0, 0, 0, 0, 0, 0, 0, 0, 0, 0, 0, 0, 0, 0,\n",
       "       0, 0, 0, 0, 0, 0, 0, 0, 0, 0, 0, 0, 0, 0, 0, 0, 0, 0, 0, 2, 2, 2,\n",
       "       2, 2, 2, 2, 2, 2, 0, 2, 2, 2, 2, 2, 2, 2, 2, 2, 1, 2, 1, 2, 1, 2,\n",
       "       1, 2, 2, 2, 2, 2, 2, 2, 2, 2, 2, 2, 2, 2, 2, 1, 1, 1, 1, 1, 1, 1,\n",
       "       1, 1, 1, 1, 1, 1, 1, 1, 1, 1, 1, 1, 1, 1, 1, 1, 1, 1, 1, 1, 1, 1,\n",
       "       1, 1, 1, 0, 1, 1, 1, 1, 1, 1, 1, 1, 1])"
      ]
     },
     "execution_count": 28,
     "metadata": {},
     "output_type": "execute_result"
    }
   ],
   "source": [
    "Y"
   ]
  },
  {
   "cell_type": "code",
   "execution_count": 29,
   "metadata": {},
   "outputs": [
    {
     "name": "stdout",
     "output_type": "stream",
     "text": [
      "2\n"
     ]
    }
   ],
   "source": [
    "print(labels_dict[\"Pikachu\"])"
   ]
  },
  {
   "cell_type": "code",
   "execution_count": 28,
   "metadata": {},
   "outputs": [
    {
     "data": {
      "text/plain": [
       "dict_values([0, 1, 2])"
      ]
     },
     "execution_count": 28,
     "metadata": {},
     "output_type": "execute_result"
    }
   ],
   "source": [
    "labels_dict.values()"
   ]
  },
  {
   "cell_type": "code",
   "execution_count": 29,
   "metadata": {},
   "outputs": [],
   "source": [
    "Y_Pred = []\n",
    "for y in Y:\n",
    "    Y_Pred.append(list(labels_dict.keys())[list(labels_dict.values()).index(y)])\n"
   ]
  },
  {
   "cell_type": "code",
   "execution_count": 30,
   "metadata": {},
   "outputs": [
    {
     "data": {
      "text/plain": [
       "'Charmander'"
      ]
     },
     "execution_count": 30,
     "metadata": {},
     "output_type": "execute_result"
    }
   ],
   "source": [
    "list(labels_dict.keys())[list(labels_dict.values()).index(1)]"
   ]
  },
  {
   "cell_type": "code",
   "execution_count": 31,
   "metadata": {},
   "outputs": [
    {
     "data": {
      "text/plain": [
       "['Bulbasaur',\n",
       " 'Bulbasaur',\n",
       " 'Bulbasaur',\n",
       " 'Bulbasaur',\n",
       " 'Bulbasaur',\n",
       " 'Bulbasaur',\n",
       " 'Bulbasaur',\n",
       " 'Bulbasaur',\n",
       " 'Bulbasaur',\n",
       " 'Bulbasaur',\n",
       " 'Bulbasaur',\n",
       " 'Bulbasaur',\n",
       " 'Bulbasaur',\n",
       " 'Bulbasaur',\n",
       " 'Bulbasaur',\n",
       " 'Bulbasaur',\n",
       " 'Bulbasaur',\n",
       " 'Bulbasaur',\n",
       " 'Bulbasaur',\n",
       " 'Bulbasaur',\n",
       " 'Bulbasaur',\n",
       " 'Bulbasaur',\n",
       " 'Bulbasaur',\n",
       " 'Bulbasaur',\n",
       " 'Bulbasaur',\n",
       " 'Bulbasaur',\n",
       " 'Bulbasaur',\n",
       " 'Bulbasaur',\n",
       " 'Bulbasaur',\n",
       " 'Bulbasaur',\n",
       " 'Bulbasaur',\n",
       " 'Bulbasaur',\n",
       " 'Bulbasaur',\n",
       " 'Bulbasaur',\n",
       " 'Bulbasaur',\n",
       " 'Bulbasaur',\n",
       " 'Bulbasaur',\n",
       " 'Bulbasaur',\n",
       " 'Bulbasaur',\n",
       " 'Bulbasaur',\n",
       " 'Bulbasaur',\n",
       " 'Pikachu',\n",
       " 'Pikachu',\n",
       " 'Pikachu',\n",
       " 'Pikachu',\n",
       " 'Pikachu',\n",
       " 'Pikachu',\n",
       " 'Pikachu',\n",
       " 'Pikachu',\n",
       " 'Pikachu',\n",
       " 'Bulbasaur',\n",
       " 'Pikachu',\n",
       " 'Pikachu',\n",
       " 'Pikachu',\n",
       " 'Pikachu',\n",
       " 'Pikachu',\n",
       " 'Pikachu',\n",
       " 'Pikachu',\n",
       " 'Pikachu',\n",
       " 'Pikachu',\n",
       " 'Charmander',\n",
       " 'Pikachu',\n",
       " 'Charmander',\n",
       " 'Pikachu',\n",
       " 'Charmander',\n",
       " 'Pikachu',\n",
       " 'Charmander',\n",
       " 'Pikachu',\n",
       " 'Pikachu',\n",
       " 'Pikachu',\n",
       " 'Pikachu',\n",
       " 'Pikachu',\n",
       " 'Pikachu',\n",
       " 'Pikachu',\n",
       " 'Pikachu',\n",
       " 'Pikachu',\n",
       " 'Pikachu',\n",
       " 'Pikachu',\n",
       " 'Pikachu',\n",
       " 'Pikachu',\n",
       " 'Pikachu',\n",
       " 'Charmander',\n",
       " 'Charmander',\n",
       " 'Charmander',\n",
       " 'Charmander',\n",
       " 'Charmander',\n",
       " 'Charmander',\n",
       " 'Charmander',\n",
       " 'Charmander',\n",
       " 'Charmander',\n",
       " 'Charmander',\n",
       " 'Charmander',\n",
       " 'Charmander',\n",
       " 'Charmander',\n",
       " 'Charmander',\n",
       " 'Charmander',\n",
       " 'Charmander',\n",
       " 'Charmander',\n",
       " 'Charmander',\n",
       " 'Charmander',\n",
       " 'Charmander',\n",
       " 'Charmander',\n",
       " 'Charmander',\n",
       " 'Charmander',\n",
       " 'Charmander',\n",
       " 'Charmander',\n",
       " 'Charmander',\n",
       " 'Charmander',\n",
       " 'Charmander',\n",
       " 'Charmander',\n",
       " 'Charmander',\n",
       " 'Charmander',\n",
       " 'Charmander',\n",
       " 'Bulbasaur',\n",
       " 'Charmander',\n",
       " 'Charmander',\n",
       " 'Charmander',\n",
       " 'Charmander',\n",
       " 'Charmander',\n",
       " 'Charmander',\n",
       " 'Charmander',\n",
       " 'Charmander',\n",
       " 'Charmander']"
      ]
     },
     "execution_count": 31,
     "metadata": {},
     "output_type": "execute_result"
    }
   ],
   "source": [
    "Y_Pred"
   ]
  },
  {
   "cell_type": "code",
   "execution_count": 32,
   "metadata": {},
   "outputs": [],
   "source": [
    "Y_Pred = np.array(Y_Pred)"
   ]
  },
  {
   "cell_type": "code",
   "execution_count": 33,
   "metadata": {},
   "outputs": [],
   "source": [
    "imagenames = np.array(imagenames)"
   ]
  },
  {
   "cell_type": "code",
   "execution_count": 34,
   "metadata": {},
   "outputs": [
    {
     "name": "stdout",
     "output_type": "stream",
     "text": [
      "(123,)\n",
      "(123,)\n"
     ]
    },
    {
     "data": {
      "text/plain": [
       "'Charmander'"
      ]
     },
     "execution_count": 34,
     "metadata": {},
     "output_type": "execute_result"
    }
   ],
   "source": [
    "print(Y_Pred.shape)\n",
    "print(imagenames.shape)\n",
    "\n",
    "Y_Pred[98]\n"
   ]
  },
  {
   "cell_type": "code",
   "execution_count": 35,
   "metadata": {},
   "outputs": [],
   "source": [
    "a = imagenames\n",
    "b = Y_Pred\n",
    "a = a.reshape(a.shape[0],-1)\n",
    "a.shape\n",
    "b = b.reshape(b.shape[0],-1)"
   ]
  },
  {
   "cell_type": "code",
   "execution_count": 36,
   "metadata": {},
   "outputs": [
    {
     "data": {
      "text/plain": [
       "numpy.ndarray"
      ]
     },
     "execution_count": 36,
     "metadata": {},
     "output_type": "execute_result"
    }
   ],
   "source": [
    "type(b)"
   ]
  },
  {
   "cell_type": "code",
   "execution_count": 37,
   "metadata": {},
   "outputs": [],
   "source": [
    "result = np.zeros((Y_Pred.shape[0],2))"
   ]
  },
  {
   "cell_type": "code",
   "execution_count": 38,
   "metadata": {},
   "outputs": [],
   "source": [
    "result = np.hstack((a,b))"
   ]
  },
  {
   "cell_type": "code",
   "execution_count": 39,
   "metadata": {},
   "outputs": [
    {
     "data": {
      "text/plain": [
       "array([['1100.jpg', 'Bulbasaur'],\n",
       "       ['1101.jpg', 'Bulbasaur'],\n",
       "       ['1102.jpg', 'Bulbasaur'],\n",
       "       ['1103.jpg', 'Bulbasaur'],\n",
       "       ['1104.jpg', 'Bulbasaur'],\n",
       "       ['1105.jpg', 'Bulbasaur'],\n",
       "       ['1106.jpg', 'Bulbasaur'],\n",
       "       ['1107.jpg', 'Bulbasaur'],\n",
       "       ['1108.jpg', 'Bulbasaur'],\n",
       "       ['1109.jpg', 'Bulbasaur'],\n",
       "       ['1110.jpg', 'Bulbasaur'],\n",
       "       ['1111.jpg', 'Bulbasaur'],\n",
       "       ['1112.jpg', 'Bulbasaur'],\n",
       "       ['1113.jpg', 'Bulbasaur'],\n",
       "       ['1114.jpg', 'Bulbasaur'],\n",
       "       ['1115.jpg', 'Bulbasaur'],\n",
       "       ['1116.jpg', 'Bulbasaur'],\n",
       "       ['1117.jpg', 'Bulbasaur'],\n",
       "       ['1118.jpg', 'Bulbasaur'],\n",
       "       ['1119.jpg', 'Bulbasaur'],\n",
       "       ['1120.jpg', 'Bulbasaur'],\n",
       "       ['1121.jpg', 'Bulbasaur'],\n",
       "       ['1122.jpg', 'Bulbasaur'],\n",
       "       ['1123.jpg', 'Bulbasaur'],\n",
       "       ['1124.jpg', 'Bulbasaur'],\n",
       "       ['1125.jpg', 'Bulbasaur'],\n",
       "       ['1126.jpg', 'Bulbasaur'],\n",
       "       ['1127.jpg', 'Bulbasaur'],\n",
       "       ['1128.jpg', 'Bulbasaur'],\n",
       "       ['1129.jpg', 'Bulbasaur'],\n",
       "       ['1130.jpg', 'Bulbasaur'],\n",
       "       ['1131.jpg', 'Bulbasaur'],\n",
       "       ['1132.jpg', 'Bulbasaur'],\n",
       "       ['1133.jpg', 'Bulbasaur'],\n",
       "       ['1134.jpg', 'Bulbasaur'],\n",
       "       ['1135.jpg', 'Bulbasaur'],\n",
       "       ['1136.jpg', 'Bulbasaur'],\n",
       "       ['1137.jpg', 'Bulbasaur'],\n",
       "       ['1138.jpg', 'Bulbasaur'],\n",
       "       ['1139.jpg', 'Bulbasaur'],\n",
       "       ['1140.jpg', 'Bulbasaur'],\n",
       "       ['2000.jpg', 'Pikachu'],\n",
       "       ['2001.jpg', 'Pikachu'],\n",
       "       ['2002.jpg', 'Pikachu'],\n",
       "       ['2003.jpg', 'Pikachu'],\n",
       "       ['2004.jpg', 'Pikachu'],\n",
       "       ['2005.jpg', 'Pikachu'],\n",
       "       ['2006.jpg', 'Pikachu'],\n",
       "       ['2007.jpg', 'Pikachu'],\n",
       "       ['2008.jpg', 'Pikachu'],\n",
       "       ['2009.jpg', 'Bulbasaur'],\n",
       "       ['2010.jpg', 'Pikachu'],\n",
       "       ['2011.jpg', 'Pikachu'],\n",
       "       ['2012.jpg', 'Pikachu'],\n",
       "       ['2013.jpg', 'Pikachu'],\n",
       "       ['2014.jpg', 'Pikachu'],\n",
       "       ['2015.jpg', 'Pikachu'],\n",
       "       ['2016.jpg', 'Pikachu'],\n",
       "       ['2017.jpg', 'Pikachu'],\n",
       "       ['2018.jpg', 'Pikachu'],\n",
       "       ['2019.jpg', 'Charmander'],\n",
       "       ['2020.jpg', 'Pikachu'],\n",
       "       ['2021.jpg', 'Charmander'],\n",
       "       ['2022.jpg', 'Pikachu'],\n",
       "       ['2023.jpg', 'Charmander'],\n",
       "       ['2024.jpg', 'Pikachu'],\n",
       "       ['2025.jpg', 'Charmander'],\n",
       "       ['2026.jpg', 'Pikachu'],\n",
       "       ['2027.jpg', 'Pikachu'],\n",
       "       ['2028.jpg', 'Pikachu'],\n",
       "       ['2029.jpg', 'Pikachu'],\n",
       "       ['2030.jpg', 'Pikachu'],\n",
       "       ['2031.jpg', 'Pikachu'],\n",
       "       ['2032.jpg', 'Pikachu'],\n",
       "       ['2033.jpg', 'Pikachu'],\n",
       "       ['2034.jpg', 'Pikachu'],\n",
       "       ['2035.jpg', 'Pikachu'],\n",
       "       ['2036.jpg', 'Pikachu'],\n",
       "       ['2037.jpg', 'Pikachu'],\n",
       "       ['2038.jpg', 'Pikachu'],\n",
       "       ['2039.jpg', 'Pikachu'],\n",
       "       ['2040.jpg', 'Charmander'],\n",
       "       ['2200.jpg', 'Charmander'],\n",
       "       ['2201.jpg', 'Charmander'],\n",
       "       ['2202.jpg', 'Charmander'],\n",
       "       ['2203.jpg', 'Charmander'],\n",
       "       ['2204.jpg', 'Charmander'],\n",
       "       ['2205.jpg', 'Charmander'],\n",
       "       ['2206.jpg', 'Charmander'],\n",
       "       ['2207.jpg', 'Charmander'],\n",
       "       ['2208.jpg', 'Charmander'],\n",
       "       ['2209.jpg', 'Charmander'],\n",
       "       ['2210.jpg', 'Charmander'],\n",
       "       ['2211.jpg', 'Charmander'],\n",
       "       ['2212.jpg', 'Charmander'],\n",
       "       ['2213.jpg', 'Charmander'],\n",
       "       ['2214.jpg', 'Charmander'],\n",
       "       ['2215.jpg', 'Charmander'],\n",
       "       ['2216.jpg', 'Charmander'],\n",
       "       ['2217.jpg', 'Charmander'],\n",
       "       ['2218.jpg', 'Charmander'],\n",
       "       ['2219.jpg', 'Charmander'],\n",
       "       ['2220.jpg', 'Charmander'],\n",
       "       ['2221.jpg', 'Charmander'],\n",
       "       ['2222.jpg', 'Charmander'],\n",
       "       ['2223.jpg', 'Charmander'],\n",
       "       ['2224.jpg', 'Charmander'],\n",
       "       ['2225.jpg', 'Charmander'],\n",
       "       ['2226.jpg', 'Charmander'],\n",
       "       ['2227.jpg', 'Charmander'],\n",
       "       ['2228.jpg', 'Charmander'],\n",
       "       ['2229.jpg', 'Charmander'],\n",
       "       ['2230.jpg', 'Charmander'],\n",
       "       ['2231.jpg', 'Bulbasaur'],\n",
       "       ['2232.jpg', 'Charmander'],\n",
       "       ['2233.jpg', 'Charmander'],\n",
       "       ['2234.jpg', 'Charmander'],\n",
       "       ['2235.jpg', 'Charmander'],\n",
       "       ['2236.jpg', 'Charmander'],\n",
       "       ['2237.jpg', 'Charmander'],\n",
       "       ['2238.jpg', 'Charmander'],\n",
       "       ['2239.jpg', 'Charmander'],\n",
       "       ['2240.jpg', 'Charmander']], dtype='<U10')"
      ]
     },
     "execution_count": 39,
     "metadata": {},
     "output_type": "execute_result"
    }
   ],
   "source": [
    "result"
   ]
  },
  {
   "cell_type": "code",
   "execution_count": 55,
   "metadata": {},
   "outputs": [
    {
     "data": {
      "text/html": [
       "<div>\n",
       "<style scoped>\n",
       "    .dataframe tbody tr th:only-of-type {\n",
       "        vertical-align: middle;\n",
       "    }\n",
       "\n",
       "    .dataframe tbody tr th {\n",
       "        vertical-align: top;\n",
       "    }\n",
       "\n",
       "    .dataframe thead th {\n",
       "        text-align: right;\n",
       "    }\n",
       "</style>\n",
       "<table border=\"1\" class=\"dataframe\">\n",
       "  <thead>\n",
       "    <tr style=\"text-align: right;\">\n",
       "      <th></th>\n",
       "      <th>ImageId</th>\n",
       "      <th>NameOfPokemon</th>\n",
       "    </tr>\n",
       "  </thead>\n",
       "  <tbody>\n",
       "    <tr>\n",
       "      <th>0</th>\n",
       "      <td>1100.jpg</td>\n",
       "      <td>Bulbasaur</td>\n",
       "    </tr>\n",
       "    <tr>\n",
       "      <th>1</th>\n",
       "      <td>1101.jpg</td>\n",
       "      <td>Bulbasaur</td>\n",
       "    </tr>\n",
       "    <tr>\n",
       "      <th>2</th>\n",
       "      <td>1102.jpg</td>\n",
       "      <td>Bulbasaur</td>\n",
       "    </tr>\n",
       "    <tr>\n",
       "      <th>3</th>\n",
       "      <td>1103.jpg</td>\n",
       "      <td>Bulbasaur</td>\n",
       "    </tr>\n",
       "    <tr>\n",
       "      <th>4</th>\n",
       "      <td>1104.jpg</td>\n",
       "      <td>Bulbasaur</td>\n",
       "    </tr>\n",
       "  </tbody>\n",
       "</table>\n",
       "</div>"
      ],
      "text/plain": [
       "    ImageId NameOfPokemon\n",
       "0  1100.jpg     Bulbasaur\n",
       "1  1101.jpg     Bulbasaur\n",
       "2  1102.jpg     Bulbasaur\n",
       "3  1103.jpg     Bulbasaur\n",
       "4  1104.jpg     Bulbasaur"
      ]
     },
     "execution_count": 55,
     "metadata": {},
     "output_type": "execute_result"
    }
   ],
   "source": [
    "dfPredictions = pd.DataFrame(data=result, columns=[\"ImageId\",\"NameOfPokemon\"])\n",
    "dfPredictions.head()"
   ]
  },
  {
   "cell_type": "code",
   "execution_count": 56,
   "metadata": {},
   "outputs": [
    {
     "name": "stdout",
     "output_type": "stream",
     "text": [
      "(123,)\n",
      "(123, 3072)\n"
     ]
    },
    {
     "data": {
      "text/plain": [
       "1.0"
      ]
     },
     "execution_count": 56,
     "metadata": {},
     "output_type": "execute_result"
    }
   ],
   "source": [
    "print(Y.shape)\n",
    "print(image_datay.shape)\n",
    "\n",
    "svm_classifier.score(image_datay,Y)"
   ]
  },
  {
   "cell_type": "code",
   "execution_count": 57,
   "metadata": {},
   "outputs": [
    {
     "data": {
      "text/html": [
       "<div>\n",
       "<style scoped>\n",
       "    .dataframe tbody tr th:only-of-type {\n",
       "        vertical-align: middle;\n",
       "    }\n",
       "\n",
       "    .dataframe tbody tr th {\n",
       "        vertical-align: top;\n",
       "    }\n",
       "\n",
       "    .dataframe thead th {\n",
       "        text-align: right;\n",
       "    }\n",
       "</style>\n",
       "<table border=\"1\" class=\"dataframe\">\n",
       "  <thead>\n",
       "    <tr style=\"text-align: right;\">\n",
       "      <th></th>\n",
       "      <th>ImageId</th>\n",
       "    </tr>\n",
       "  </thead>\n",
       "  <tbody>\n",
       "    <tr>\n",
       "      <th>0</th>\n",
       "      <td>1106.jpg</td>\n",
       "    </tr>\n",
       "    <tr>\n",
       "      <th>1</th>\n",
       "      <td>2236.jpg</td>\n",
       "    </tr>\n",
       "    <tr>\n",
       "      <th>2</th>\n",
       "      <td>1131.jpg</td>\n",
       "    </tr>\n",
       "    <tr>\n",
       "      <th>3</th>\n",
       "      <td>2221.jpg</td>\n",
       "    </tr>\n",
       "    <tr>\n",
       "      <th>4</th>\n",
       "      <td>2011.jpg</td>\n",
       "    </tr>\n",
       "  </tbody>\n",
       "</table>\n",
       "</div>"
      ],
      "text/plain": [
       "    ImageId\n",
       "0  1106.jpg\n",
       "1  2236.jpg\n",
       "2  1131.jpg\n",
       "3  2221.jpg\n",
       "4  2011.jpg"
      ]
     },
     "execution_count": 57,
     "metadata": {},
     "output_type": "execute_result"
    }
   ],
   "source": [
    "YTest = pd.read_csv(\"Test/Test.csv\")\n",
    "YTest.head()"
   ]
  },
  {
   "cell_type": "code",
   "execution_count": 58,
   "metadata": {},
   "outputs": [
    {
     "data": {
      "text/html": [
       "<div>\n",
       "<style scoped>\n",
       "    .dataframe tbody tr th:only-of-type {\n",
       "        vertical-align: middle;\n",
       "    }\n",
       "\n",
       "    .dataframe tbody tr th {\n",
       "        vertical-align: top;\n",
       "    }\n",
       "\n",
       "    .dataframe thead th {\n",
       "        text-align: right;\n",
       "    }\n",
       "</style>\n",
       "<table border=\"1\" class=\"dataframe\">\n",
       "  <thead>\n",
       "    <tr style=\"text-align: right;\">\n",
       "      <th></th>\n",
       "      <th>ImageId</th>\n",
       "      <th>NameOfPokemon</th>\n",
       "    </tr>\n",
       "  </thead>\n",
       "  <tbody>\n",
       "    <tr>\n",
       "      <th>0</th>\n",
       "      <td>1100.jpg</td>\n",
       "      <td>Bulbasaur</td>\n",
       "    </tr>\n",
       "    <tr>\n",
       "      <th>1</th>\n",
       "      <td>1101.jpg</td>\n",
       "      <td>Bulbasaur</td>\n",
       "    </tr>\n",
       "    <tr>\n",
       "      <th>2</th>\n",
       "      <td>1102.jpg</td>\n",
       "      <td>Bulbasaur</td>\n",
       "    </tr>\n",
       "    <tr>\n",
       "      <th>3</th>\n",
       "      <td>1103.jpg</td>\n",
       "      <td>Bulbasaur</td>\n",
       "    </tr>\n",
       "    <tr>\n",
       "      <th>4</th>\n",
       "      <td>1104.jpg</td>\n",
       "      <td>Bulbasaur</td>\n",
       "    </tr>\n",
       "  </tbody>\n",
       "</table>\n",
       "</div>"
      ],
      "text/plain": [
       "    ImageId NameOfPokemon\n",
       "0  1100.jpg     Bulbasaur\n",
       "1  1101.jpg     Bulbasaur\n",
       "2  1102.jpg     Bulbasaur\n",
       "3  1103.jpg     Bulbasaur\n",
       "4  1104.jpg     Bulbasaur"
      ]
     },
     "execution_count": 58,
     "metadata": {},
     "output_type": "execute_result"
    }
   ],
   "source": [
    "dfPredictions.head()"
   ]
  },
  {
   "cell_type": "code",
   "execution_count": 59,
   "metadata": {},
   "outputs": [],
   "source": [
    "YAns = pd.merge(dfPredictions, YTest, how='right', left_on='ImageId', right_on='ImageId')"
   ]
  },
  {
   "cell_type": "code",
   "execution_count": 60,
   "metadata": {},
   "outputs": [
    {
     "data": {
      "text/html": [
       "<div>\n",
       "<style scoped>\n",
       "    .dataframe tbody tr th:only-of-type {\n",
       "        vertical-align: middle;\n",
       "    }\n",
       "\n",
       "    .dataframe tbody tr th {\n",
       "        vertical-align: top;\n",
       "    }\n",
       "\n",
       "    .dataframe thead th {\n",
       "        text-align: right;\n",
       "    }\n",
       "</style>\n",
       "<table border=\"1\" class=\"dataframe\">\n",
       "  <thead>\n",
       "    <tr style=\"text-align: right;\">\n",
       "      <th></th>\n",
       "      <th>ImageId</th>\n",
       "      <th>NameOfPokemon</th>\n",
       "    </tr>\n",
       "  </thead>\n",
       "  <tbody>\n",
       "    <tr>\n",
       "      <th>0</th>\n",
       "      <td>1106.jpg</td>\n",
       "      <td>Bulbasaur</td>\n",
       "    </tr>\n",
       "    <tr>\n",
       "      <th>1</th>\n",
       "      <td>2236.jpg</td>\n",
       "      <td>Charmander</td>\n",
       "    </tr>\n",
       "    <tr>\n",
       "      <th>2</th>\n",
       "      <td>1131.jpg</td>\n",
       "      <td>Bulbasaur</td>\n",
       "    </tr>\n",
       "    <tr>\n",
       "      <th>3</th>\n",
       "      <td>2221.jpg</td>\n",
       "      <td>Charmander</td>\n",
       "    </tr>\n",
       "    <tr>\n",
       "      <th>4</th>\n",
       "      <td>2011.jpg</td>\n",
       "      <td>Pikachu</td>\n",
       "    </tr>\n",
       "    <tr>\n",
       "      <th>5</th>\n",
       "      <td>2030.jpg</td>\n",
       "      <td>Pikachu</td>\n",
       "    </tr>\n",
       "    <tr>\n",
       "      <th>6</th>\n",
       "      <td>2035.jpg</td>\n",
       "      <td>Pikachu</td>\n",
       "    </tr>\n",
       "    <tr>\n",
       "      <th>7</th>\n",
       "      <td>1110.jpg</td>\n",
       "      <td>Bulbasaur</td>\n",
       "    </tr>\n",
       "    <tr>\n",
       "      <th>8</th>\n",
       "      <td>1104.jpg</td>\n",
       "      <td>Bulbasaur</td>\n",
       "    </tr>\n",
       "    <tr>\n",
       "      <th>9</th>\n",
       "      <td>2217.jpg</td>\n",
       "      <td>Charmander</td>\n",
       "    </tr>\n",
       "    <tr>\n",
       "      <th>10</th>\n",
       "      <td>1111.jpg</td>\n",
       "      <td>Bulbasaur</td>\n",
       "    </tr>\n",
       "    <tr>\n",
       "      <th>11</th>\n",
       "      <td>1100.jpg</td>\n",
       "      <td>Bulbasaur</td>\n",
       "    </tr>\n",
       "    <tr>\n",
       "      <th>12</th>\n",
       "      <td>1112.jpg</td>\n",
       "      <td>Bulbasaur</td>\n",
       "    </tr>\n",
       "    <tr>\n",
       "      <th>13</th>\n",
       "      <td>1138.jpg</td>\n",
       "      <td>Bulbasaur</td>\n",
       "    </tr>\n",
       "    <tr>\n",
       "      <th>14</th>\n",
       "      <td>2238.jpg</td>\n",
       "      <td>Charmander</td>\n",
       "    </tr>\n",
       "  </tbody>\n",
       "</table>\n",
       "</div>"
      ],
      "text/plain": [
       "     ImageId NameOfPokemon\n",
       "0   1106.jpg     Bulbasaur\n",
       "1   2236.jpg    Charmander\n",
       "2   1131.jpg     Bulbasaur\n",
       "3   2221.jpg    Charmander\n",
       "4   2011.jpg       Pikachu\n",
       "5   2030.jpg       Pikachu\n",
       "6   2035.jpg       Pikachu\n",
       "7   1110.jpg     Bulbasaur\n",
       "8   1104.jpg     Bulbasaur\n",
       "9   2217.jpg    Charmander\n",
       "10  1111.jpg     Bulbasaur\n",
       "11  1100.jpg     Bulbasaur\n",
       "12  1112.jpg     Bulbasaur\n",
       "13  1138.jpg     Bulbasaur\n",
       "14  2238.jpg    Charmander"
      ]
     },
     "execution_count": 60,
     "metadata": {},
     "output_type": "execute_result"
    }
   ],
   "source": [
    "YAns.head(n=15)"
   ]
  },
  {
   "cell_type": "code",
   "execution_count": 54,
   "metadata": {},
   "outputs": [],
   "source": [
    "YAns.to_csv('ans.csv')"
   ]
  },
  {
   "cell_type": "code",
   "execution_count": null,
   "metadata": {},
   "outputs": [],
   "source": []
  }
 ],
 "metadata": {
  "kernelspec": {
   "display_name": "Python 3",
   "language": "python",
   "name": "python3"
  },
  "language_info": {
   "codemirror_mode": {
    "name": "ipython",
    "version": 3
   },
   "file_extension": ".py",
   "mimetype": "text/x-python",
   "name": "python",
   "nbconvert_exporter": "python",
   "pygments_lexer": "ipython3",
   "version": "3.7.0"
  }
 },
 "nbformat": 4,
 "nbformat_minor": 4
}
